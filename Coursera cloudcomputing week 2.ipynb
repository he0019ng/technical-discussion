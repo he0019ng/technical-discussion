{
 "cells": [
  {
   "cell_type": "markdown",
   "id": "58901d71",
   "metadata": {},
   "source": [
    "# This is the first header"
   ]
  },
  {
   "cell_type": "code",
   "execution_count": 1,
   "id": "c3db6ee3",
   "metadata": {
    "scrolled": false
   },
   "outputs": [
    {
     "name": "stdout",
     "output_type": "stream",
     "text": [
      "Hello World\n"
     ]
    }
   ],
   "source": [
    "print('Hello World')"
   ]
  },
  {
   "cell_type": "markdown",
   "id": "737ed68a",
   "metadata": {},
   "source": [
    "This is a sentence"
   ]
  },
  {
   "cell_type": "markdown",
   "id": "8995bc4c",
   "metadata": {},
   "source": [
    "## This is the second header"
   ]
  },
  {
   "cell_type": "markdown",
   "id": "f92f041c",
   "metadata": {},
   "source": [
    "### This is the third header"
   ]
  }
 ],
 "metadata": {
  "kernelspec": {
   "display_name": "Python 3 (ipykernel)",
   "language": "python",
   "name": "python3"
  },
  "language_info": {
   "codemirror_mode": {
    "name": "ipython",
    "version": 3
   },
   "file_extension": ".py",
   "mimetype": "text/x-python",
   "name": "python",
   "nbconvert_exporter": "python",
   "pygments_lexer": "ipython3",
   "version": "3.9.13"
  }
 },
 "nbformat": 4,
 "nbformat_minor": 5
}
